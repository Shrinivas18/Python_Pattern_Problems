{
  "nbformat": 4,
  "nbformat_minor": 0,
  "metadata": {
    "colab": {
      "provenance": [],
      "authorship_tag": "ABX9TyPwPVHeg6bXNKpgHxZO1ISi",
      "include_colab_link": true
    },
    "kernelspec": {
      "name": "python3",
      "display_name": "Python 3"
    },
    "language_info": {
      "name": "python"
    }
  },
  "cells": [
    {
      "cell_type": "markdown",
      "metadata": {
        "id": "view-in-github",
        "colab_type": "text"
      },
      "source": [
        "<a href=\"https://colab.research.google.com/github/Shrinivas18/Python_Pattern_Problems/blob/main/Number_Pyramid.ipynb\" target=\"_parent\"><img src=\"https://colab.research.google.com/assets/colab-badge.svg\" alt=\"Open In Colab\"/></a>"
      ]
    },
    {
      "cell_type": "markdown",
      "source": [
        "**PROBLEM :**\n",
        "\n",
        "Number Pyramid Pattern.\n",
        "\n",
        "![pyra.GIF](data:image/gif;base64,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)"
      ],
      "metadata": {
        "id": "ktuRuaMP6JER"
      }
    },
    {
      "cell_type": "code",
      "execution_count": 1,
      "metadata": {
        "colab": {
          "base_uri": "https://localhost:8080/"
        },
        "id": "vA3hivOg6AGK",
        "outputId": "1ab8f218-39d9-40ab-d8b2-48f0def29ad3"
      },
      "outputs": [
        {
          "output_type": "stream",
          "name": "stdout",
          "text": [
            "1\n",
            "12\n",
            "1 2\n",
            "1  2\n",
            "1   2\n",
            "123456\n"
          ]
        }
      ],
      "source": [
        "n = 5\n",
        "for i in range(n):\n",
        "    for j in range(n - i - 1):\n",
        "        print(' ', end='')\n",
        "    for k in range(2 * i + 1):\n",
        "        print(k + 1, end='')\n",
        "    print()\n",
        "Output:"
      ]
    }
  ]
}