{
  "nbformat": 4,
  "nbformat_minor": 0,
  "metadata": {
    "colab": {
      "provenance": [],
      "authorship_tag": "ABX9TyOHdNZOaUFFoBgjdp2P5bab",
      "include_colab_link": true
    },
    "kernelspec": {
      "name": "python3",
      "display_name": "Python 3"
    },
    "language_info": {
      "name": "python"
    }
  },
  "cells": [
    {
      "cell_type": "markdown",
      "metadata": {
        "id": "view-in-github",
        "colab_type": "text"
      },
      "source": [
        "<a href=\"https://colab.research.google.com/github/Shrinivas18/Python_Pattern_Problems/blob/main/Even_number_Pyramid.ipynb\" target=\"_parent\"><img src=\"https://colab.research.google.com/assets/colab-badge.svg\" alt=\"Open In Colab\"/></a>"
      ]
    },
    {
      "cell_type": "markdown",
      "source": [
        "**Problem** : Even Number Pyramid Pattern\n",
        "\n",
        "\n",
        "10 \n",
        "\n",
        "10 8 \n",
        "\n",
        "10 8 6 \n",
        "\n",
        "10 8 6 4 \n",
        "\n",
        "10 8 6 4 2"
      ],
      "metadata": {
        "id": "4hHQpomzpne_"
      }
    },
    {
      "cell_type": "code",
      "source": [
        "rows = int(input(\"Enter number of rows : \"))\n",
        "\n",
        "LastEvenNumber = 2 * rows\n",
        "\n",
        "evenNumber = LastEvenNumber\n",
        "\n",
        "for i in range(1, rows+1):\n",
        "  evenNumber = LastEvenNumber\n",
        "  for j in range(i):\n",
        "    print(evenNumber, end=' ')\n",
        "    evenNumber -= 2\n",
        "\n",
        "  print(\"\\r\")"
      ],
      "metadata": {
        "colab": {
          "base_uri": "https://localhost:8080/"
        },
        "id": "kWtlhblZpoDK",
        "outputId": "9af4484d-e847-49c5-983d-3bb9847e43fe"
      },
      "execution_count": 10,
      "outputs": [
        {
          "output_type": "stream",
          "name": "stdout",
          "text": [
            "Enter number of rows : 5\n",
            "10 \n",
            "10 8 \n",
            "10 8 6 \n",
            "10 8 6 4 \n",
            "10 8 6 4 2 \n"
          ]
        }
      ]
    }
  ]
}