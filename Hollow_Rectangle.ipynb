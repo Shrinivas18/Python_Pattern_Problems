{
  "nbformat": 4,
  "nbformat_minor": 0,
  "metadata": {
    "colab": {
      "provenance": [],
      "authorship_tag": "ABX9TyNnc+Q9VSMmE0E6fsggn+4B",
      "include_colab_link": true
    },
    "kernelspec": {
      "name": "python3",
      "display_name": "Python 3"
    },
    "language_info": {
      "name": "python"
    }
  },
  "cells": [
    {
      "cell_type": "markdown",
      "metadata": {
        "id": "view-in-github",
        "colab_type": "text"
      },
      "source": [
        "<a href=\"https://colab.research.google.com/github/Shrinivas18/Python_Pattern_Problems/blob/main/Hollow_Rectangle.ipynb\" target=\"_parent\"><img src=\"https://colab.research.google.com/assets/colab-badge.svg\" alt=\"Open In Colab\"/></a>"
      ]
    },
    {
      "cell_type": "code",
      "source": [
        "l,b=map(int,input(\"Enter length and breadth of the rectangle with space between them: \").split())\n",
        "\n",
        "for _ in range(l):\n",
        "  print(\"*\",end=\"\")\n",
        "print(\"\")\n",
        "for _ in range(0,b-2):\n",
        "  print(\"*\",end=\"\")\n",
        "  for _ in range(l-2):\n",
        "    print(\" \",end=\"\")\n",
        "  print(\"*\")\n",
        "\n",
        "for _ in range(l):\n",
        "  print(\"*\",end=\"\")\n"
      ],
      "metadata": {
        "colab": {
          "base_uri": "https://localhost:8080/"
        },
        "id": "_pzzeRjvJsAi",
        "outputId": "5b3e1230-beeb-4e59-96d5-e3ab81708d7d"
      },
      "execution_count": 48,
      "outputs": [
        {
          "output_type": "stream",
          "name": "stdout",
          "text": [
            "Enter length and breadth of the rectangle with space between them: 10 5\n",
            "**********\n",
            "*        *\n",
            "*        *\n",
            "*        *\n",
            "**********"
          ]
        }
      ]
    }
  ]
}