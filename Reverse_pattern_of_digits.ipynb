{
  "nbformat": 4,
  "nbformat_minor": 0,
  "metadata": {
    "colab": {
      "provenance": [],
      "authorship_tag": "ABX9TyN4ZChhzcuXiNFKz/sUnm6y",
      "include_colab_link": true
    },
    "kernelspec": {
      "name": "python3",
      "display_name": "Python 3"
    },
    "language_info": {
      "name": "python"
    }
  },
  "cells": [
    {
      "cell_type": "markdown",
      "metadata": {
        "id": "view-in-github",
        "colab_type": "text"
      },
      "source": [
        "<a href=\"https://colab.research.google.com/github/Shrinivas18/Python_Pattern_Problems/blob/main/Reverse_pattern_of_digits.ipynb\" target=\"_parent\"><img src=\"https://colab.research.google.com/assets/colab-badge.svg\" alt=\"Open In Colab\"/></a>"
      ]
    },
    {
      "cell_type": "markdown",
      "source": [
        "**Problem:**\n",
        "Reverse Pattern of Digits from 10.\n",
        "\n",
        "1\n",
        "\n",
        "3 2\n",
        "\n",
        "6 5 4\n",
        "\n",
        "10 9 8 7"
      ],
      "metadata": {
        "id": "4hHQpomzpne_"
      }
    },
    {
      "cell_type": "code",
      "source": [
        "start = 1\n",
        "\n",
        "stop = 2\n",
        "\n",
        "currentNumber = stop\n",
        "\n",
        "for row in range(2, 6):\n",
        "\n",
        "    for col in range(start, stop):\n",
        "\n",
        "        currentNumber -= 1\n",
        "\n",
        "        print(currentNumber, end=' ')\n",
        "\n",
        "    print(\"\")\n",
        "\n",
        "    start = stop\n",
        "\n",
        "    stop += row\n",
        "\n",
        "    currentNumber = stop"
      ],
      "metadata": {
        "colab": {
          "base_uri": "https://localhost:8080/"
        },
        "id": "kWtlhblZpoDK",
        "outputId": "3ba007db-606f-4ab7-abe9-0b5b12f6c80c"
      },
      "execution_count": 15,
      "outputs": [
        {
          "output_type": "stream",
          "name": "stdout",
          "text": [
            "1 \n",
            "3 2 \n",
            "6 5 4 \n",
            "10 9 8 7 \n"
          ]
        }
      ]
    }
  ]
}