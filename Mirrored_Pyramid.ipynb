{
  "nbformat": 4,
  "nbformat_minor": 0,
  "metadata": {
    "colab": {
      "provenance": [],
      "authorship_tag": "ABX9TyO58ZgTknmH03tLfoFhjf1e",
      "include_colab_link": true
    },
    "kernelspec": {
      "name": "python3",
      "display_name": "Python 3"
    },
    "language_info": {
      "name": "python"
    }
  },
  "cells": [
    {
      "cell_type": "markdown",
      "metadata": {
        "id": "view-in-github",
        "colab_type": "text"
      },
      "source": [
        "<a href=\"https://colab.research.google.com/github/Shrinivas18/Python_Pattern_Problems/blob/main/Mirrored_Pyramid.ipynb\" target=\"_parent\"><img src=\"https://colab.research.google.com/assets/colab-badge.svg\" alt=\"Open In Colab\"/></a>"
      ]
    },
    {
      "cell_type": "markdown",
      "source": [
        "**Problem** : Equilateral Triangle with Stars (Asterisk Symbol)\n",
        "\n",
        "\n",
        "            *   \n",
        "\n",
        "           * *   \n",
        "\n",
        "          * * *   \n",
        "\n",
        "         * * * *   \n",
        "\n",
        "        * * * * *   \n",
        "\n",
        "       * * * * * *   \n",
        "\n",
        "      * * * * * * *"
      ],
      "metadata": {
        "id": "4hHQpomzpne_"
      }
    },
    {
      "cell_type": "code",
      "source": [
        "print(\"Print equilateral triangle Pyramid using stars \")\n",
        "\n",
        "size = int(input(\"Enter number of rows : \"))\n",
        "\n",
        "\n",
        "m = (2 * size) - 2\n",
        "\n",
        "for i in range(0, size):\n",
        "  for j in range(0, m):\n",
        "    print(end=\" \")\n",
        "\n",
        "  m = m-1\n",
        "\n",
        "  for j in range(0, i + 1):\n",
        "    print(\"*\", end=' ')\n",
        "\n",
        "  print(\" \")"
      ],
      "metadata": {
        "colab": {
          "base_uri": "https://localhost:8080/"
        },
        "id": "kWtlhblZpoDK",
        "outputId": "f31e9989-5b10-4655-aa45-ccb3f1dbbd8a"
      },
      "execution_count": 16,
      "outputs": [
        {
          "output_type": "stream",
          "name": "stdout",
          "text": [
            "Print equilateral triangle Pyramid using stars \n",
            "Enter number of rows : 7\n",
            "            *  \n",
            "           * *  \n",
            "          * * *  \n",
            "         * * * *  \n",
            "        * * * * *  \n",
            "       * * * * * *  \n",
            "      * * * * * * *  \n"
          ]
        }
      ]
    }
  ]
}