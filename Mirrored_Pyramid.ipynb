{
  "nbformat": 4,
  "nbformat_minor": 0,
  "metadata": {
    "colab": {
      "provenance": [],
      "authorship_tag": "ABX9TyPRowpDec/RmkQ6+D0bf6GR",
      "include_colab_link": true
    },
    "kernelspec": {
      "name": "python3",
      "display_name": "Python 3"
    },
    "language_info": {
      "name": "python"
    }
  },
  "cells": [
    {
      "cell_type": "markdown",
      "metadata": {
        "id": "view-in-github",
        "colab_type": "text"
      },
      "source": [
        "<a href=\"https://colab.research.google.com/github/Shrinivas18/Python_Pattern_Problems/blob/main/Mirrored_Pyramid.ipynb\" target=\"_parent\"><img src=\"https://colab.research.google.com/assets/colab-badge.svg\" alt=\"Open In Colab\"/></a>"
      ]
    },
    {
      "cell_type": "markdown",
      "source": [
        "**Problem** : Mirrored Pyramid (Right-angled Triangle) Pattern of Numbers.\n",
        "\n",
        "![que1.GIF](data:image/gif;base64,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)"
      ],
      "metadata": {
        "id": "4hHQpomzpne_"
      }
    },
    {
      "cell_type": "code",
      "source": [
        "rows = int(input(\"Enter number of rows : \"))\n",
        "\n",
        "for row in range(1, rows):\n",
        "  num = 1\n",
        "  for j in range(rows, 0, -1):\n",
        "    if j > row:\n",
        "      print(\" \", end=' ')\n",
        "    else:\n",
        "      print(num, end=' ')\n",
        "      num += 1\n",
        "\n",
        "  print(\"\")"
      ],
      "metadata": {
        "colab": {
          "base_uri": "https://localhost:8080/"
        },
        "id": "kWtlhblZpoDK",
        "outputId": "86039cbc-84a6-413f-9431-bc217775aa39"
      },
      "execution_count": 12,
      "outputs": [
        {
          "output_type": "stream",
          "name": "stdout",
          "text": [
            "Enter number of rows : 5\n",
            "        1 \n",
            "      1 2 \n",
            "    1 2 3 \n",
            "  1 2 3 4 \n"
          ]
        }
      ]
    }
  ]
}