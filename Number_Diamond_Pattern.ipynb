{
  "nbformat": 4,
  "nbformat_minor": 0,
  "metadata": {
    "colab": {
      "provenance": [],
      "authorship_tag": "ABX9TyPBw9E1j4j1KETSayn0R5NS",
      "include_colab_link": true
    },
    "kernelspec": {
      "name": "python3",
      "display_name": "Python 3"
    },
    "language_info": {
      "name": "python"
    }
  },
  "cells": [
    {
      "cell_type": "markdown",
      "metadata": {
        "id": "view-in-github",
        "colab_type": "text"
      },
      "source": [
        "<a href=\"https://colab.research.google.com/github/Shrinivas18/Python_Pattern_Problems/blob/main/Number_Diamond_Pattern.ipynb\" target=\"_parent\"><img src=\"https://colab.research.google.com/assets/colab-badge.svg\" alt=\"Open In Colab\"/></a>"
      ]
    },
    {
      "cell_type": "markdown",
      "source": [
        "**PROBLEM :**\n",
        "\n",
        "Number Diamond Pattern.\n",
        "\n",
        "![dia.GIF](data:image/gif;base64,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)\n"
      ],
      "metadata": {
        "id": "ktuRuaMP6JER"
      }
    },
    {
      "cell_type": "code",
      "execution_count": 3,
      "metadata": {
        "colab": {
          "base_uri": "https://localhost:8080/"
        },
        "id": "vA3hivOg6AGK",
        "outputId": "82c7b022-2052-43df-d28e-83ee8b15c1ff"
      },
      "outputs": [
        {
          "output_type": "stream",
          "name": "stdout",
          "text": [
            "    1\n",
            "   123\n",
            "  12345\n",
            " 1234567\n",
            "123456789\n",
            " 1234567\n",
            "  12345\n",
            "   123\n",
            "    1\n"
          ]
        }
      ],
      "source": [
        "n = 5\n",
        "\n",
        "# upward pyramid\n",
        "for i in range(n):\n",
        "    for j in range(n - i - 1):\n",
        "        print(' ', end='')\n",
        "    for j in range(2 * i + 1):\n",
        "        print(j+1, end='')\n",
        "    print()\n",
        "\n",
        "# downward pyramid\n",
        "for i in range(n - 1):\n",
        "    for j in range(i + 1):\n",
        "        print(' ', end='')\n",
        "    for j in range(2*(n - i - 1) - 1):\n",
        "        print(j+1, end='')\n",
        "    print()"
      ]
    }
  ]
}