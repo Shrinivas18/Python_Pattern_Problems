{
  "nbformat": 4,
  "nbformat_minor": 0,
  "metadata": {
    "colab": {
      "provenance": [],
      "authorship_tag": "ABX9TyObA1UNQUDSSpg7/J+jbsUn",
      "include_colab_link": true
    },
    "kernelspec": {
      "name": "python3",
      "display_name": "Python 3"
    },
    "language_info": {
      "name": "python"
    }
  },
  "cells": [
    {
      "cell_type": "markdown",
      "metadata": {
        "id": "view-in-github",
        "colab_type": "text"
      },
      "source": [
        "<a href=\"https://colab.research.google.com/github/Shrinivas18/Python_Pattern_Problems/blob/main/Downward_Triangle.ipynb\" target=\"_parent\"><img src=\"https://colab.research.google.com/assets/colab-badge.svg\" alt=\"Open In Colab\"/></a>"
      ]
    },
    {
      "cell_type": "markdown",
      "source": [
        "**Problem** : Downward Triangle Pattern of Stars\n",
        "\n",
        "\n",
        "        * * * * * * \n",
        "\n",
        "         * * * * * \n",
        "\n",
        "          * * * * \n",
        "\n",
        "           * * * \n",
        "\n",
        "            * * \n",
        "\n",
        "             * "
      ],
      "metadata": {
        "id": "4hHQpomzpne_"
      }
    },
    {
      "cell_type": "code",
      "source": [
        "rows = int(input(\"Enter number of rows : \"))\n",
        "\n",
        "\n",
        "k = 2 * rows - 2\n",
        "\n",
        "for i in range(rows, -1, -1):\n",
        "\n",
        "    for j in range(k, 0, -1):\n",
        "\n",
        "        print(end=\" \")\n",
        "\n",
        "    k = k + 1\n",
        "\n",
        "    for j in range(0, i + 1):\n",
        "\n",
        "        print(\"*\", end=' ')\n",
        "\n",
        "    print(\"\")"
      ],
      "metadata": {
        "colab": {
          "base_uri": "https://localhost:8080/"
        },
        "id": "kWtlhblZpoDK",
        "outputId": "a35d36ff-9b99-4d6e-caef-85f89e54e581"
      },
      "execution_count": 17,
      "outputs": [
        {
          "output_type": "stream",
          "name": "stdout",
          "text": [
            "Enter number of rows : 7\n",
            "            * * * * * * * * \n",
            "             * * * * * * * \n",
            "              * * * * * * \n",
            "               * * * * * \n",
            "                * * * * \n",
            "                 * * * \n",
            "                  * * \n",
            "                   * \n"
          ]
        }
      ]
    }
  ]
}