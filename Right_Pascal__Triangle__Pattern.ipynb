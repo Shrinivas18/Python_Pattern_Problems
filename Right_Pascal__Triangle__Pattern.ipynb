{
  "nbformat": 4,
  "nbformat_minor": 0,
  "metadata": {
    "colab": {
      "provenance": [],
      "authorship_tag": "ABX9TyODtoVXWEfQohpTnpwx53Q0",
      "include_colab_link": true
    },
    "kernelspec": {
      "name": "python3",
      "display_name": "Python 3"
    },
    "language_info": {
      "name": "python"
    }
  },
  "cells": [
    {
      "cell_type": "markdown",
      "metadata": {
        "id": "view-in-github",
        "colab_type": "text"
      },
      "source": [
        "<a href=\"https://colab.research.google.com/github/Shrinivas18/Python_Pattern_Problems/blob/main/Right_Pascal__Triangle__Pattern.ipynb\" target=\"_parent\"><img src=\"https://colab.research.google.com/assets/colab-badge.svg\" alt=\"Open In Colab\"/></a>"
      ]
    },
    {
      "cell_type": "markdown",
      "source": [
        "**PROBLEM :**\n",
        "\n",
        "Right pascal triangle pattern.\n",
        "\n",
        "![pas.GIF](data:image/gif;base64,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)"
      ],
      "metadata": {
        "id": "ktuRuaMP6JER"
      }
    },
    {
      "cell_type": "code",
      "execution_count": 5,
      "metadata": {
        "colab": {
          "base_uri": "https://localhost:8080/"
        },
        "id": "vA3hivOg6AGK",
        "outputId": "32bff952-1246-45fe-a15a-9b0fb7c189c7"
      },
      "outputs": [
        {
          "output_type": "stream",
          "name": "stdout",
          "text": [
            "1\n",
            "12\n",
            "123\n",
            "1234\n",
            "12345\n",
            "1234\n",
            "123\n",
            "12\n",
            "1\n",
            "\n"
          ]
        }
      ],
      "source": [
        "n = 5\n",
        "\n",
        "# upper triangle\n",
        "for i in range(n):\n",
        "    for j in range(i + 1):\n",
        "        print(j+1, end=\"\")\n",
        "    print()\n",
        "# lower triangle\n",
        "for i in range(n):\n",
        "    for j in range(n - i - 1):\n",
        "        print(j+1, end=\"\")\n",
        "    print()"
      ]
    }
  ]
}