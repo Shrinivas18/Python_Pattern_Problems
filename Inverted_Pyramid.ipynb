{
  "nbformat": 4,
  "nbformat_minor": 0,
  "metadata": {
    "colab": {
      "provenance": [],
      "authorship_tag": "ABX9TyNxUsWVugfg+poYa6sAEhF0",
      "include_colab_link": true
    },
    "kernelspec": {
      "name": "python3",
      "display_name": "Python 3"
    },
    "language_info": {
      "name": "python"
    }
  },
  "cells": [
    {
      "cell_type": "markdown",
      "metadata": {
        "id": "view-in-github",
        "colab_type": "text"
      },
      "source": [
        "<a href=\"https://colab.research.google.com/github/Shrinivas18/Python_Pattern_Problems/blob/main/Inverted_Pyramid.ipynb\" target=\"_parent\"><img src=\"https://colab.research.google.com/assets/colab-badge.svg\" alt=\"Open In Colab\"/></a>"
      ]
    },
    {
      "cell_type": "markdown",
      "source": [
        "**Problem:**\n",
        "Inverted Pyramid of Numbers\n",
        "\n",
        "1 1 1 1 1 \n",
        "\n",
        "2 2 2 2\n",
        "\n",
        "3 3 3\n",
        "\n",
        "4 4 \n",
        "\n",
        "5"
      ],
      "metadata": {
        "id": "4hHQpomzpne_"
      }
    },
    {
      "cell_type": "code",
      "source": [
        "n=int(input(\"Enter how many lines to be printed : \"))\n",
        "\n",
        "for i in range(1,n+1):\n",
        "  for j in range(n+1,i,-1):\n",
        "    print(i,end=\" \")\n",
        "  print(\"\\n\")\n"
      ],
      "metadata": {
        "colab": {
          "base_uri": "https://localhost:8080/"
        },
        "id": "kWtlhblZpoDK",
        "outputId": "3d095642-d4b1-4c9c-acf6-922689e66ac2"
      },
      "execution_count": 7,
      "outputs": [
        {
          "output_type": "stream",
          "name": "stdout",
          "text": [
            "Enter how many lines to be printed : 5\n",
            "1 1 1 1 1 \n",
            "\n",
            "2 2 2 2 \n",
            "\n",
            "3 3 3 \n",
            "\n",
            "4 4 \n",
            "\n",
            "5 \n",
            "\n"
          ]
        }
      ]
    }
  ]
}