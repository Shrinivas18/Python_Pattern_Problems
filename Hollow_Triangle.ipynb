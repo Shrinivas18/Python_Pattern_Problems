{
  "nbformat": 4,
  "nbformat_minor": 0,
  "metadata": {
    "colab": {
      "provenance": [],
      "authorship_tag": "ABX9TyMy+nNhPPOCDok+YB2Np/gn",
      "include_colab_link": true
    },
    "kernelspec": {
      "name": "python3",
      "display_name": "Python 3"
    },
    "language_info": {
      "name": "python"
    }
  },
  "cells": [
    {
      "cell_type": "markdown",
      "metadata": {
        "id": "view-in-github",
        "colab_type": "text"
      },
      "source": [
        "<a href=\"https://colab.research.google.com/github/Shrinivas18/Python_Pattern_Problems/blob/main/Hollow_Triangle.ipynb\" target=\"_parent\"><img src=\"https://colab.research.google.com/assets/colab-badge.svg\" alt=\"Open In Colab\"/></a>"
      ]
    },
    {
      "cell_type": "markdown",
      "source": [
        "**PROBLEM :**\n",
        "\n",
        "Program to print Hollow Triangle.\n",
        "\n",
        "![Capture.GIF](data:image/gif;base64,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)"
      ],
      "metadata": {
        "id": "ktuRuaMP6JER"
      }
    },
    {
      "cell_type": "code",
      "execution_count": 1,
      "metadata": {
        "colab": {
          "base_uri": "https://localhost:8080/"
        },
        "id": "vA3hivOg6AGK",
        "outputId": "1ab8f218-39d9-40ab-d8b2-48f0def29ad3"
      },
      "outputs": [
        {
          "output_type": "stream",
          "name": "stdout",
          "text": [
            "1\n",
            "12\n",
            "1 2\n",
            "1  2\n",
            "1   2\n",
            "123456\n"
          ]
        }
      ],
      "source": [
        "n = 6\n",
        "for i in range(1, n+1):\n",
        "    count = 1\n",
        "    for j in range(i):\n",
        "        if j == 0 or j == i-1:\n",
        "            print(count, end='')\n",
        "            count += 1\n",
        "        else:\n",
        "            if i != n:\n",
        "                print(' ', end='')\n",
        "            else:\n",
        "                print(count, end='')\n",
        "                count += 1\n",
        "    print()"
      ]
    }
  ]
}