{
  "nbformat": 4,
  "nbformat_minor": 0,
  "metadata": {
    "colab": {
      "provenance": [],
      "authorship_tag": "ABX9TyP3pXVYEEkmnFMo4WXpRUfb",
      "include_colab_link": true
    },
    "kernelspec": {
      "name": "python3",
      "display_name": "Python 3"
    },
    "language_info": {
      "name": "python"
    }
  },
  "cells": [
    {
      "cell_type": "markdown",
      "metadata": {
        "id": "view-in-github",
        "colab_type": "text"
      },
      "source": [
        "<a href=\"https://colab.research.google.com/github/Shrinivas18/Python_Pattern_Problems/blob/main/Reverse_Number_Pyramid.ipynb\" target=\"_parent\"><img src=\"https://colab.research.google.com/assets/colab-badge.svg\" alt=\"Open In Colab\"/></a>"
      ]
    },
    {
      "cell_type": "markdown",
      "source": [
        "**PROBLEM :**\n",
        "\n",
        "Reverse Number Pyramid Pattern.\n",
        "\n",
        "![rev.GIF](data:image/gif;base64,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)\n"
      ],
      "metadata": {
        "id": "ktuRuaMP6JER"
      }
    },
    {
      "cell_type": "code",
      "execution_count": 2,
      "metadata": {
        "colab": {
          "base_uri": "https://localhost:8080/"
        },
        "id": "vA3hivOg6AGK",
        "outputId": "1e45b1a9-eb19-4595-cebd-0996dc75a7e1"
      },
      "outputs": [
        {
          "output_type": "stream",
          "name": "stdout",
          "text": [
            "123456789\n",
            " 1234567\n",
            "  12345\n",
            "   123\n",
            "    1\n"
          ]
        }
      ],
      "source": [
        "n = 5\n",
        "\n",
        "for i in range(n):\n",
        "    # printing spaces\n",
        "    for j in range(i):\n",
        "        print(' ', end='')\n",
        "    # printing alphabet\n",
        "    for j in range(2*(n-i)-1):\n",
        "        print(j+1, end='')\n",
        "    print()"
      ]
    }
  ]
}