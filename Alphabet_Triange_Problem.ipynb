{
  "nbformat": 4,
  "nbformat_minor": 0,
  "metadata": {
    "colab": {
      "provenance": [],
      "authorship_tag": "ABX9TyP2bMjrIpxJnVWViN0bi8N9",
      "include_colab_link": true
    },
    "kernelspec": {
      "name": "python3",
      "display_name": "Python 3"
    },
    "language_info": {
      "name": "python"
    }
  },
  "cells": [
    {
      "cell_type": "markdown",
      "metadata": {
        "id": "view-in-github",
        "colab_type": "text"
      },
      "source": [
        "<a href=\"https://colab.research.google.com/github/Shrinivas18/Python_Pattern_Problems/blob/main/Alphabet_Triange_Problem.ipynb\" target=\"_parent\"><img src=\"https://colab.research.google.com/assets/colab-badge.svg\" alt=\"Open In Colab\"/></a>"
      ]
    },
    {
      "cell_type": "markdown",
      "source": [
        "![Capture.GIF](data:image/gif;base64,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)"
      ],
      "metadata": {
        "id": "XcpB26uHnRnA"
      }
    },
    {
      "cell_type": "code",
      "source": [
        "n=int(input(\"Number of Rows : \"))\n",
        "\n",
        "listt = [chr(v) for v in range(65, 91)]\n",
        "\n",
        "for i in range(n):\n",
        "  for j in range(i+1):\n",
        "    print(listt[j],end=\"\")\n",
        "  for l in reversed(range(i)):\n",
        "    print(listt[l],end=\"\")\n",
        "  print(\"\\n\")\n",
        "    \n",
        "  \n"
      ],
      "metadata": {
        "colab": {
          "base_uri": "https://localhost:8080/"
        },
        "id": "_pzzeRjvJsAi",
        "outputId": "fc73991f-32a7-4741-a348-de8850cfbec5"
      },
      "execution_count": 14,
      "outputs": [
        {
          "output_type": "stream",
          "name": "stdout",
          "text": [
            "Number of Rows : 5\n",
            "A\n",
            "\n",
            "ABA\n",
            "\n",
            "ABCBA\n",
            "\n",
            "ABCDCBA\n",
            "\n",
            "ABCDEDCBA\n",
            "\n"
          ]
        }
      ]
    }
  ]
}