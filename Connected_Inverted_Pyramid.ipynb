{
  "nbformat": 4,
  "nbformat_minor": 0,
  "metadata": {
    "colab": {
      "provenance": [],
      "authorship_tag": "ABX9TyOm0dnDhKqi1G6pQzs6/zxf",
      "include_colab_link": true
    },
    "kernelspec": {
      "name": "python3",
      "display_name": "Python 3"
    },
    "language_info": {
      "name": "python"
    }
  },
  "cells": [
    {
      "cell_type": "markdown",
      "metadata": {
        "id": "view-in-github",
        "colab_type": "text"
      },
      "source": [
        "<a href=\"https://colab.research.google.com/github/Shrinivas18/Python_Pattern_Problems/blob/main/Connected_Inverted_Pyramid.ipynb\" target=\"_parent\"><img src=\"https://colab.research.google.com/assets/colab-badge.svg\" alt=\"Open In Colab\"/></a>"
      ]
    },
    {
      "cell_type": "markdown",
      "source": [
        "**Problem** : Connected Inverted Pyramid Pattern of Numbers\n",
        "\n",
        "\n",
        "5 4 3 2 1 1 2 3 4 5 \n",
        "\n",
        "5 4 3 2 2 3 4 5 \n",
        "\n",
        "5 4 3 3 4 5 \n",
        "\n",
        "5 4 4 5 \n",
        "\n",
        "5 5"
      ],
      "metadata": {
        "id": "4hHQpomzpne_"
      }
    },
    {
      "cell_type": "code",
      "source": [
        "rows = int(input(\"Enter number of rows : \"))\n",
        "\n",
        "for i in range(0, rows):\n",
        "  for j in range(rows-1, i, -1):\n",
        "    print(j, end=\"\")\n",
        "  for l in range(i):\n",
        "    print(\"\", end=\"\")\n",
        "  for k in range(i + 1, rows):\n",
        "    print(k,end=\"\")\n",
        "\n",
        "  print('\\n')"
      ],
      "metadata": {
        "colab": {
          "base_uri": "https://localhost:8080/"
        },
        "id": "kWtlhblZpoDK",
        "outputId": "0e66d77d-6160-4cda-913a-f84145f24968"
      },
      "execution_count": 7,
      "outputs": [
        {
          "output_type": "stream",
          "name": "stdout",
          "text": [
            "Enter number of rows : 6\n",
            "5432112345\n",
            "\n",
            "54322345\n",
            "\n",
            "543345\n",
            "\n",
            "5445\n",
            "\n",
            "55\n",
            "\n",
            "\n",
            "\n"
          ]
        }
      ]
    }
  ]
}