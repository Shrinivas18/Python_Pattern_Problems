{
  "nbformat": 4,
  "nbformat_minor": 0,
  "metadata": {
    "colab": {
      "provenance": [],
      "authorship_tag": "ABX9TyOkOcILWLYo5l7VehME/z3u",
      "include_colab_link": true
    },
    "kernelspec": {
      "name": "python3",
      "display_name": "Python 3"
    },
    "language_info": {
      "name": "python"
    }
  },
  "cells": [
    {
      "cell_type": "markdown",
      "metadata": {
        "id": "view-in-github",
        "colab_type": "text"
      },
      "source": [
        "<a href=\"https://colab.research.google.com/github/Shrinivas18/Python_Pattern_Problems/blob/main/Number_Hourglass_Pattern.ipynb\" target=\"_parent\"><img src=\"https://colab.research.google.com/assets/colab-badge.svg\" alt=\"Open In Colab\"/></a>"
      ]
    },
    {
      "cell_type": "markdown",
      "source": [
        "**PROBLEM :**\n",
        "\n",
        "Number Hourglass pattern.\n",
        "\n",
        "![hour.GIF](data:image/gif;base64,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)"
      ],
      "metadata": {
        "id": "ktuRuaMP6JER"
      }
    },
    {
      "cell_type": "code",
      "execution_count": 4,
      "metadata": {
        "colab": {
          "base_uri": "https://localhost:8080/"
        },
        "id": "vA3hivOg6AGK",
        "outputId": "66b24e39-c85c-4da2-866b-ed8b13572bee"
      },
      "outputs": [
        {
          "output_type": "stream",
          "name": "stdout",
          "text": [
            "123456789\n",
            " 1234567\n",
            "  12345\n",
            "   123\n",
            "    1\n",
            "   123\n",
            "  12345\n",
            " 1234567\n",
            "123456789\n"
          ]
        }
      ],
      "source": [
        "n = 5\n",
        "\n",
        "# downward pyramid\n",
        "for i in range(n-1):\n",
        "    for j in range(i):\n",
        "        print(' ', end='')\n",
        "    for k in range(2*(n-i)-1):\n",
        "        print(k+1, end='')\n",
        "    print()\n",
        "# uppward pyramid\n",
        "for i in range(n):\n",
        "    for j in range(n-i-1):\n",
        "        print(' ', end='')\n",
        "    for k in range(2*i+1):\n",
        "        print(k+1, end='')\n",
        "    print()"
      ]
    }
  ]
}